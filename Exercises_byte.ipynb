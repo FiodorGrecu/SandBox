{
 "cells": [
  {
   "cell_type": "code",
   "execution_count": null,
   "metadata": {},
   "outputs": [],
   "source": [
    "x = 2\n",
    "y = 4\n",
    "print(result == False)\n",
    "print(result != x == y)\n"
   ]
  },
  {
   "cell_type": "code",
   "execution_count": null,
   "metadata": {},
   "outputs": [],
   "source": [
    "result"
   ]
  },
  {
   "cell_type": "code",
   "execution_count": null,
   "metadata": {},
   "outputs": [],
   "source": [
    "def sum_array(num_list):\n",
    "    return sum(num_list)\n",
    "print(sum_array([1,2,3,4]))\n"
   ]
  },
  {
   "cell_type": "code",
   "execution_count": null,
   "metadata": {},
   "outputs": [],
   "source": [
    "\n",
    "def count_down_from(num):\n",
    "    if num >= 1:\n",
    "        print(num)\n",
    "        count_down_from(num-1)\n",
    "count_down_from(7)\n",
    "print(count_down_from(9))"
   ]
  },
  {
   "cell_type": "code",
   "execution_count": null,
   "metadata": {},
   "outputs": [],
   "source": [
    "string = \"Hello\"\n",
    "string1 = \"You\"\n",
    "print(string + ' ' + string1)"
   ]
  },
  {
   "cell_type": "code",
   "execution_count": null,
   "metadata": {},
   "outputs": [],
   "source": [
    "n = int(input())\n",
    "if n % 2 == 0:\n",
    "    print(\"This number is even! \")\n",
    "else:\n",
    "    print(\"This number is odd! \")"
   ]
  },
  {
   "cell_type": "code",
   "execution_count": null,
   "metadata": {},
   "outputs": [],
   "source": [
    "string = \"BYTE ACADEMY\"\n",
    "string.lower()\n",
    "vowels = ['A', 'E', 'I', 'O', 'U']\n",
    "data = []\n",
    "for i in range(0,len(string),1):\n",
    "    if string[i] in vowels:\n",
    "        pass\n",
    "    elif string[i] not in vowels:\n",
    "\n",
    "        data.append(string[i])\n",
    "print(data)"
   ]
  },
  {
   "cell_type": "code",
   "execution_count": null,
   "metadata": {},
   "outputs": [],
   "source": [
    "length = float(input(\"What is the lenght of the lot :\"))\n",
    "bredth = float(input(\"What is the breadth ofthe lot :\"))\n",
    "data = length * bredth\n",
    "print(f\"You're area is {data} square feet !\")"
   ]
  },
  {
   "cell_type": "code",
   "execution_count": null,
   "metadata": {},
   "outputs": [],
   "source": []
  }
 ],
 "metadata": {
  "kernelspec": {
   "display_name": "Python 3",
   "language": "python",
   "name": "python3"
  },
  "language_info": {
   "codemirror_mode": {
    "name": "ipython",
    "version": 3
   },
   "file_extension": ".py",
   "mimetype": "text/x-python",
   "name": "python",
   "nbconvert_exporter": "python",
   "pygments_lexer": "ipython3",
   "version": "3.8.2"
  }
 },
 "nbformat": 4,
 "nbformat_minor": 4
}
